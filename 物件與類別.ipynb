{
 "cells": [
  {
   "cell_type": "code",
   "execution_count": 18,
   "metadata": {},
   "outputs": [
    {
     "name": "stdout",
     "output_type": "stream",
     "text": [
      "有一個User物件被產生了!\n",
      "有一個User物件被產生了!\n",
      "a Andy 35 2\n",
      "b Ben 20 1\n"
     ]
    },
    {
     "ename": "NameError",
     "evalue": "name 'intro' is not defined",
     "output_type": "error",
     "traceback": [
      "\u001b[1;31m---------------------------------------------------------------------------\u001b[0m",
      "\u001b[1;31mNameError\u001b[0m                                 Traceback (most recent call last)",
      "Cell \u001b[1;32mIn[18], line 35\u001b[0m\n\u001b[0;32m     32\u001b[0m \u001b[38;5;28mprint\u001b[39m(\u001b[38;5;124m\"\u001b[39m\u001b[38;5;124mb\u001b[39m\u001b[38;5;124m\"\u001b[39m,b\u001b[38;5;241m.\u001b[39mname, b\u001b[38;5;241m.\u001b[39mage, b\u001b[38;5;241m.\u001b[39mlevel)\n\u001b[0;32m     33\u001b[0m \u001b[38;5;66;03m#a <__main__.User object at 0x000001B4173EDD00> at後面接的是資料儲存記憶體的位置\u001b[39;00m\n\u001b[1;32m---> 35\u001b[0m \u001b[38;5;28mprint\u001b[39m(intro(a))\n",
      "\u001b[1;31mNameError\u001b[0m: name 'intro' is not defined"
     ]
    }
   ],
   "source": [
    "#from module(模組) imoport 類別(大寫)\n",
    "#物件導向程式設計:用物件來表達多欄位資料(字典也可，但物件較容易整理)\n",
    "#欄位的正式名稱為\"屬性\"\n",
    "#1.類別(class)\n",
    "#2.物件(object):可以有一個以上欄位(屬性attribute)以及方法(function)\n",
    "#3.物件必須透過類別(class)產生，必須先有類別才有物件\n",
    "class User: \n",
    "    #取名class後的第一個字一定要大寫\n",
    "    #def__init__(self): initial初始化函數，必須兩個底線+括號\n",
    "    def __init__(self, name, age, level=1):\n",
    "    #初始函數會在類別產生物件時自動被觸發\n",
    "    #設定level的預設值為1，如果沒設預設值又沒輸入資料，將出現錯誤\n",
    "       print(\"有一個User物件被產生了!\")\n",
    "       self.name= name\n",
    "       #self代表用類別產生的物件\n",
    "       #a的name= 送進來的name\n",
    "       self.age= age\n",
    "       self.level=level\n",
    "#       self.intro( )\n",
    "\n",
    "    def intro(self):\n",
    "        print(f\"Hello 我叫{self.name} {self.age歲} 等級是{self.level}\")\n",
    "\n",
    "a=User(\"Andy\",35,2)\n",
    "#呼叫User類別產生物件a\n",
    "b=User(\"Ben\",20)\n",
    "#呼叫User類別產生物件b\n",
    "#呼叫類別名字就是產生物件的方法\n",
    "#函數用途: 包裝複雜流程；類別用途:產生物件\n",
    "print(\"a\",a.name, a.age, a.level)\n",
    "\n",
    "print(\"b\",b.name, b.age, b.level)\n",
    "#a <__main__.User object at 0x000001B4173EDD00> at後面接的是資料儲存記憶體的位置\n"
   ]
  },
  {
   "cell_type": "code",
   "execution_count": null,
   "metadata": {},
   "outputs": [],
   "source": []
  }
 ],
 "metadata": {
  "kernelspec": {
   "display_name": "base",
   "language": "python",
   "name": "python3"
  },
  "language_info": {
   "codemirror_mode": {
    "name": "ipython",
    "version": 3
   },
   "file_extension": ".py",
   "mimetype": "text/x-python",
   "name": "python",
   "nbconvert_exporter": "python",
   "pygments_lexer": "ipython3",
   "version": "3.12.7"
  }
 },
 "nbformat": 4,
 "nbformat_minor": 2
}
